{
 "cells": [
  {
   "cell_type": "markdown",
   "id": "8f748ee4",
   "metadata": {},
   "source": [
    "# 🌦️ Current Weather Colab Notebook\n",
    "\n",
    "이 노트북은 GitHub의 `main.py` 파일을 기반으로 하여 Colab에서 바로 실행할 수 있도록 구성되었습니다."
   ]
  },
  {
   "cell_type": "code",
   "execution_count": null,
   "id": "237831b9",
   "metadata": {},
   "outputs": [],
   "source": [
    "!pip install requests"
   ]
  },
  {
   "cell_type": "code",
   "execution_count": null,
   "id": "b8ed0a60",
   "metadata": {},
   "outputs": [],
   "source": [
    "import requests\n",
    "\n",
    "API_KEY = \"your_api_key_here\"  # 여기에 OpenWeatherMap API 키를 입력하세요\n",
    "city = \"Seoul\"\n",
    "url = f\"http://api.openweathermap.org/data/2.5/weather?q={city}&appid={API_KEY}&units=metric\"\n",
    "\n",
    "response = requests.get(url)\n",
    "data = response.json()\n",
    "\n",
    "if response.status_code == 200:\n",
    "    print(f\"📍 도시: {data['name']}\")\n",
    "    print(f\"🌡️ 온도: {data['main']['temp']}°C\")\n",
    "    print(f\"🌤️ 날씨: {data['weather'][0]['description']}\")\n",
    "else:\n",
    "    print(\"⚠️ 날씨 정보를 가져오지 못했습니다. API 키나 도시 이름을 확인하세요.\")"
   ]
  }
 ],
 "metadata": {},
 "nbformat": 4,
 "nbformat_minor": 5
}